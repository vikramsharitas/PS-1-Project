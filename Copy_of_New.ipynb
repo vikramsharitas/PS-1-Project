{
  "nbformat": 4,
  "nbformat_minor": 0,
  "metadata": {
    "accelerator": "GPU",
    "colab": {
      "name": "Copy of New.ipynb",
      "provenance": [],
      "collapsed_sections": []
    },
    "kernelspec": {
      "display_name": "Python 3",
      "name": "python3"
    }
  },
  "cells": [
    {
      "cell_type": "code",
      "metadata": {
        "id": "9faYH5amrEJu",
        "colab_type": "code",
        "colab": {
          "base_uri": "https://localhost:8080/",
          "height": 125
        },
        "outputId": "b678e95b-985b-44b9-b4b8-aa517d0c4247"
      },
      "source": [
        "from google.colab import drive\n",
        "drive.mount('/content/drive')"
      ],
      "execution_count": null,
      "outputs": [
        {
          "output_type": "stream",
          "text": [
            "Go to this URL in a browser: https://accounts.google.com/o/oauth2/auth?client_id=947318989803-6bn6qk8qdgf4n4g3pfee6491hc0brc4i.apps.googleusercontent.com&redirect_uri=urn%3aietf%3awg%3aoauth%3a2.0%3aoob&response_type=code&scope=email%20https%3a%2f%2fwww.googleapis.com%2fauth%2fdocs.test%20https%3a%2f%2fwww.googleapis.com%2fauth%2fdrive%20https%3a%2f%2fwww.googleapis.com%2fauth%2fdrive.photos.readonly%20https%3a%2f%2fwww.googleapis.com%2fauth%2fpeopleapi.readonly\n",
            "\n",
            "Enter your authorization code:\n",
            "··········\n",
            "Mounted at /content/drive\n"
          ],
          "name": "stdout"
        }
      ]
    },
    {
      "cell_type": "code",
      "metadata": {
        "colab_type": "code",
        "id": "7rZnJaGTWQw0",
        "colab": {}
      },
      "source": [
        "import tensorflow as tf\n",
        "\n",
        "import os\n",
        "import matplotlib as mpl\n",
        "import pandas as pd\n",
        "import numpy as np\n",
        "import matplotlib.pyplot as plt\n",
        "\n",
        "from statsmodels.tsa.seasonal import seasonal_decompose"
      ],
      "execution_count": null,
      "outputs": []
    },
    {
      "cell_type": "code",
      "metadata": {
        "id": "sofxGVm66fMe",
        "colab_type": "code",
        "colab": {}
      },
      "source": [
        "df = pd.read_csv('/content/drive/My Drive/FutureTech.csv', parse_dates=['datetime'])\n",
        "yval = df['RPM'] == 0\n",
        "df['yval'] = yval\n",
        "df = df[df['machineID']!=4]\n",
        "length = len(df)"
      ],
      "execution_count": null,
      "outputs": []
    },
    {
      "cell_type": "code",
      "metadata": {
        "colab_type": "code",
        "id": "ojHE-iCCWIhz",
        "colab": {
          "base_uri": "https://localhost:8080/",
          "height": 402
        },
        "outputId": "265429d1-a21e-429e-b2fb-34d3286764dc"
      },
      "source": [
        "df.head(90000)"
      ],
      "execution_count": null,
      "outputs": [
        {
          "output_type": "execute_result",
          "data": {
            "text/html": [
              "<div>\n",
              "<style scoped>\n",
              "    .dataframe tbody tr th:only-of-type {\n",
              "        vertical-align: middle;\n",
              "    }\n",
              "\n",
              "    .dataframe tbody tr th {\n",
              "        vertical-align: top;\n",
              "    }\n",
              "\n",
              "    .dataframe thead th {\n",
              "        text-align: right;\n",
              "    }\n",
              "</style>\n",
              "<table border=\"1\" class=\"dataframe\">\n",
              "  <thead>\n",
              "    <tr style=\"text-align: right;\">\n",
              "      <th></th>\n",
              "      <th>datetime</th>\n",
              "      <th>machineID</th>\n",
              "      <th>Voltage</th>\n",
              "      <th>RPM</th>\n",
              "      <th>pressure</th>\n",
              "      <th>vibration</th>\n",
              "      <th>yval</th>\n",
              "    </tr>\n",
              "  </thead>\n",
              "  <tbody>\n",
              "    <tr>\n",
              "      <th>0</th>\n",
              "      <td>2015-01-01 06:00:00</td>\n",
              "      <td>1</td>\n",
              "      <td>176.217853</td>\n",
              "      <td>418.504078</td>\n",
              "      <td>113.077935</td>\n",
              "      <td>45.087686</td>\n",
              "      <td>False</td>\n",
              "    </tr>\n",
              "    <tr>\n",
              "      <th>1</th>\n",
              "      <td>2015-01-01 07:00:00</td>\n",
              "      <td>1</td>\n",
              "      <td>162.879223</td>\n",
              "      <td>402.747490</td>\n",
              "      <td>95.460525</td>\n",
              "      <td>43.413973</td>\n",
              "      <td>False</td>\n",
              "    </tr>\n",
              "    <tr>\n",
              "      <th>2</th>\n",
              "      <td>2015-01-01 08:00:00</td>\n",
              "      <td>1</td>\n",
              "      <td>170.989902</td>\n",
              "      <td>527.349825</td>\n",
              "      <td>75.237905</td>\n",
              "      <td>34.178847</td>\n",
              "      <td>False</td>\n",
              "    </tr>\n",
              "    <tr>\n",
              "      <th>3</th>\n",
              "      <td>2015-01-01 09:00:00</td>\n",
              "      <td>1</td>\n",
              "      <td>162.462833</td>\n",
              "      <td>346.149335</td>\n",
              "      <td>109.248561</td>\n",
              "      <td>41.122144</td>\n",
              "      <td>False</td>\n",
              "    </tr>\n",
              "    <tr>\n",
              "      <th>4</th>\n",
              "      <td>2015-01-01 10:00:00</td>\n",
              "      <td>1</td>\n",
              "      <td>157.610021</td>\n",
              "      <td>435.376873</td>\n",
              "      <td>111.886648</td>\n",
              "      <td>25.990511</td>\n",
              "      <td>False</td>\n",
              "    </tr>\n",
              "    <tr>\n",
              "      <th>...</th>\n",
              "      <td>...</td>\n",
              "      <td>...</td>\n",
              "      <td>...</td>\n",
              "      <td>...</td>\n",
              "      <td>...</td>\n",
              "      <td>...</td>\n",
              "      <td>...</td>\n",
              "    </tr>\n",
              "    <tr>\n",
              "      <th>43800</th>\n",
              "      <td>2016-01-01 02:00:00</td>\n",
              "      <td>5</td>\n",
              "      <td>162.964887</td>\n",
              "      <td>511.046527</td>\n",
              "      <td>153.187090</td>\n",
              "      <td>41.772148</td>\n",
              "      <td>False</td>\n",
              "    </tr>\n",
              "    <tr>\n",
              "      <th>43801</th>\n",
              "      <td>2016-01-01 03:00:00</td>\n",
              "      <td>5</td>\n",
              "      <td>136.402165</td>\n",
              "      <td>402.228972</td>\n",
              "      <td>152.191926</td>\n",
              "      <td>38.078241</td>\n",
              "      <td>False</td>\n",
              "    </tr>\n",
              "    <tr>\n",
              "      <th>43802</th>\n",
              "      <td>2016-01-01 04:00:00</td>\n",
              "      <td>5</td>\n",
              "      <td>181.426439</td>\n",
              "      <td>460.280665</td>\n",
              "      <td>142.451849</td>\n",
              "      <td>44.551477</td>\n",
              "      <td>False</td>\n",
              "    </tr>\n",
              "    <tr>\n",
              "      <th>43803</th>\n",
              "      <td>2016-01-01 05:00:00</td>\n",
              "      <td>5</td>\n",
              "      <td>178.261658</td>\n",
              "      <td>424.821800</td>\n",
              "      <td>156.228631</td>\n",
              "      <td>39.976910</td>\n",
              "      <td>False</td>\n",
              "    </tr>\n",
              "    <tr>\n",
              "      <th>43804</th>\n",
              "      <td>2016-01-01 06:00:00</td>\n",
              "      <td>5</td>\n",
              "      <td>178.789197</td>\n",
              "      <td>415.167298</td>\n",
              "      <td>142.414273</td>\n",
              "      <td>47.020210</td>\n",
              "      <td>False</td>\n",
              "    </tr>\n",
              "  </tbody>\n",
              "</table>\n",
              "<p>35044 rows × 7 columns</p>\n",
              "</div>"
            ],
            "text/plain": [
              "                 datetime  machineID     Voltage  ...    pressure  vibration   yval\n",
              "0     2015-01-01 06:00:00          1  176.217853  ...  113.077935  45.087686  False\n",
              "1     2015-01-01 07:00:00          1  162.879223  ...   95.460525  43.413973  False\n",
              "2     2015-01-01 08:00:00          1  170.989902  ...   75.237905  34.178847  False\n",
              "3     2015-01-01 09:00:00          1  162.462833  ...  109.248561  41.122144  False\n",
              "4     2015-01-01 10:00:00          1  157.610021  ...  111.886648  25.990511  False\n",
              "...                   ...        ...         ...  ...         ...        ...    ...\n",
              "43800 2016-01-01 02:00:00          5  162.964887  ...  153.187090  41.772148  False\n",
              "43801 2016-01-01 03:00:00          5  136.402165  ...  152.191926  38.078241  False\n",
              "43802 2016-01-01 04:00:00          5  181.426439  ...  142.451849  44.551477  False\n",
              "43803 2016-01-01 05:00:00          5  178.261658  ...  156.228631  39.976910  False\n",
              "43804 2016-01-01 06:00:00          5  178.789197  ...  142.414273  47.020210  False\n",
              "\n",
              "[35044 rows x 7 columns]"
            ]
          },
          "metadata": {
            "tags": []
          },
          "execution_count": 42
        }
      ]
    },
    {
      "cell_type": "code",
      "metadata": {
        "id": "RNr4Gx0ctBDc",
        "colab_type": "code",
        "colab": {}
      },
      "source": [
        "def cal_hrs(length, yval):\n",
        "  hoursto = np.zeros(length)\n",
        "  hourssince = np.zeros(length)\n",
        "  l = len(yval)\n",
        "  temp1 = None\n",
        "  temp2 = None\n",
        "  for i in range(length-1, -1, -1):\n",
        "    if yval[i] == 1:\n",
        "      temp1 = 1\n",
        "      hoursto[(i)] = 0\n",
        "      continue\n",
        "    if temp1 == 1:\n",
        "      hoursto[(i)] = hoursto[(i)+1] + 1\n",
        "    else:\n",
        "      hoursto[(i)] = None\n",
        "    if yval[length-1-(i)] == 1:\n",
        "      temp2 = 1\n",
        "      hourssince[length-1-(i)] = 0\n",
        "      continue\n",
        "    if temp2 == 1:\n",
        "      hourssince[length-1-(i)] = hourssince[length-1-(i)-1] + 1\n",
        "    else:\n",
        "      hourssince[length-1-(i)] = None\n",
        "  return hoursto, hourssince"
      ],
      "execution_count": null,
      "outputs": []
    },
    {
      "cell_type": "code",
      "metadata": {
        "id": "CTmF2J-cqTz4",
        "colab_type": "code",
        "colab": {}
      },
      "source": [
        "since = np.zeros(0)\n",
        "to = np.zeros(0)\n",
        "\n",
        "for mid in df.machineID.unique():\n",
        "  l = len(df[df.machineID == mid])\n",
        "  yval = df.yval[df.machineID == mid].values\n",
        "\n",
        "  hrsince = np.zeros(l)\n",
        "  hrsto = np.zeros(l)\n",
        "\n",
        "  temp1 = -1\n",
        "  temp2 = -1\n",
        "  \n",
        "  for i in range(0, l):\n",
        "    if yval[i] == 1:\n",
        "      temp1 = 1\n",
        "      hrsince[i] == 0\n",
        "    elif temp1 == 1:\n",
        "      hrsince[i] = hrsince[i-1] + 1\n",
        "\n",
        "    if yval[l-i-1] == 1:\n",
        "      temp2 = 1\n",
        "      hrsto[l-i-1] = 0\n",
        "    elif temp2 == 1:\n",
        "      hrsto[l-i-1] = hrsto[l-i] + 1\n",
        "\n",
        "  temp1 = -1\n",
        "  temp2 = -1\n",
        "\n",
        "  for i in range(0, l):\n",
        "    if hrsto[i] == 0 and hrsto[i-1] == 0:\n",
        "      temp2 = 1\n",
        "      hrsto[i] = 720\n",
        "    elif temp2 == 1:\n",
        "      hrsto[i] = hrsto[i-1] - 1\n",
        "    \n",
        "    if hrsince[l-i-1] == 0 and hrsince[l-i] == 0:\n",
        "      temp1 = 1\n",
        "      hrsince[l-i-1] = 720\n",
        "    elif temp1 == 1:\n",
        "      hrsince[l-i-1] = hrsince[l-i] - 1\n",
        "\n",
        "  since = np.append(since, hrsince)\n",
        "  to = np.append(to, hrsto)\n",
        "\n",
        "df['hourssince'] = since\n",
        "df['hoursto'] = to"
      ],
      "execution_count": null,
      "outputs": []
    },
    {
      "cell_type": "code",
      "metadata": {
        "id": "FFHr3Gc-u-Lw",
        "colab_type": "code",
        "colab": {
          "base_uri": "https://localhost:8080/",
          "height": 263
        },
        "outputId": "8355608d-50ed-480d-a14f-c637642991f4"
      },
      "source": [
        "print(df)"
      ],
      "execution_count": null,
      "outputs": [
        {
          "output_type": "stream",
          "text": [
            "                 datetime  machineID     Voltage  ...   yval  hourssince  hoursto\n",
            "0     2015-01-01 06:00:00          1  176.217853  ...  False       642.0     79.0\n",
            "1     2015-01-01 07:00:00          1  162.879223  ...  False       643.0     78.0\n",
            "2     2015-01-01 08:00:00          1  170.989902  ...  False       644.0     77.0\n",
            "3     2015-01-01 09:00:00          1  162.462833  ...  False       645.0     76.0\n",
            "4     2015-01-01 10:00:00          1  157.610021  ...  False       646.0     75.0\n",
            "...                   ...        ...         ...  ...    ...         ...      ...\n",
            "43800 2016-01-01 02:00:00          5  162.964887  ...  False         2.0    719.0\n",
            "43801 2016-01-01 03:00:00          5  136.402165  ...  False         3.0    718.0\n",
            "43802 2016-01-01 04:00:00          5  181.426439  ...  False         4.0    717.0\n",
            "43803 2016-01-01 05:00:00          5  178.261658  ...  False         5.0    716.0\n",
            "43804 2016-01-01 06:00:00          5  178.789197  ...  False         6.0    715.0\n",
            "\n",
            "[35044 rows x 9 columns]\n"
          ],
          "name": "stdout"
        }
      ]
    },
    {
      "cell_type": "code",
      "metadata": {
        "colab_type": "code",
        "id": "IfQUSiJfUpXJ",
        "colab": {
          "base_uri": "https://localhost:8080/",
          "height": 195
        },
        "outputId": "5b1486eb-8969-41f9-fc93-4d2dc596093c"
      },
      "source": [
        "features_considered = ['datetime','machineID','Voltage','RPM','pressure','vibration','hourssince','hoursto']\n",
        "features = df[features_considered]\n",
        "# features.index = df.index\n",
        "features.head()"
      ],
      "execution_count": null,
      "outputs": [
        {
          "output_type": "execute_result",
          "data": {
            "text/html": [
              "<div>\n",
              "<style scoped>\n",
              "    .dataframe tbody tr th:only-of-type {\n",
              "        vertical-align: middle;\n",
              "    }\n",
              "\n",
              "    .dataframe tbody tr th {\n",
              "        vertical-align: top;\n",
              "    }\n",
              "\n",
              "    .dataframe thead th {\n",
              "        text-align: right;\n",
              "    }\n",
              "</style>\n",
              "<table border=\"1\" class=\"dataframe\">\n",
              "  <thead>\n",
              "    <tr style=\"text-align: right;\">\n",
              "      <th></th>\n",
              "      <th>datetime</th>\n",
              "      <th>machineID</th>\n",
              "      <th>Voltage</th>\n",
              "      <th>RPM</th>\n",
              "      <th>pressure</th>\n",
              "      <th>vibration</th>\n",
              "      <th>hourssince</th>\n",
              "      <th>hoursto</th>\n",
              "    </tr>\n",
              "  </thead>\n",
              "  <tbody>\n",
              "    <tr>\n",
              "      <th>0</th>\n",
              "      <td>2015-01-01 06:00:00</td>\n",
              "      <td>1</td>\n",
              "      <td>176.217853</td>\n",
              "      <td>418.504078</td>\n",
              "      <td>113.077935</td>\n",
              "      <td>45.087686</td>\n",
              "      <td>642.0</td>\n",
              "      <td>79.0</td>\n",
              "    </tr>\n",
              "    <tr>\n",
              "      <th>1</th>\n",
              "      <td>2015-01-01 07:00:00</td>\n",
              "      <td>1</td>\n",
              "      <td>162.879223</td>\n",
              "      <td>402.747490</td>\n",
              "      <td>95.460525</td>\n",
              "      <td>43.413973</td>\n",
              "      <td>643.0</td>\n",
              "      <td>78.0</td>\n",
              "    </tr>\n",
              "    <tr>\n",
              "      <th>2</th>\n",
              "      <td>2015-01-01 08:00:00</td>\n",
              "      <td>1</td>\n",
              "      <td>170.989902</td>\n",
              "      <td>527.349825</td>\n",
              "      <td>75.237905</td>\n",
              "      <td>34.178847</td>\n",
              "      <td>644.0</td>\n",
              "      <td>77.0</td>\n",
              "    </tr>\n",
              "    <tr>\n",
              "      <th>3</th>\n",
              "      <td>2015-01-01 09:00:00</td>\n",
              "      <td>1</td>\n",
              "      <td>162.462833</td>\n",
              "      <td>346.149335</td>\n",
              "      <td>109.248561</td>\n",
              "      <td>41.122144</td>\n",
              "      <td>645.0</td>\n",
              "      <td>76.0</td>\n",
              "    </tr>\n",
              "    <tr>\n",
              "      <th>4</th>\n",
              "      <td>2015-01-01 10:00:00</td>\n",
              "      <td>1</td>\n",
              "      <td>157.610021</td>\n",
              "      <td>435.376873</td>\n",
              "      <td>111.886648</td>\n",
              "      <td>25.990511</td>\n",
              "      <td>646.0</td>\n",
              "      <td>75.0</td>\n",
              "    </tr>\n",
              "  </tbody>\n",
              "</table>\n",
              "</div>"
            ],
            "text/plain": [
              "             datetime  machineID     Voltage  ...  vibration  hourssince  hoursto\n",
              "0 2015-01-01 06:00:00          1  176.217853  ...  45.087686       642.0     79.0\n",
              "1 2015-01-01 07:00:00          1  162.879223  ...  43.413973       643.0     78.0\n",
              "2 2015-01-01 08:00:00          1  170.989902  ...  34.178847       644.0     77.0\n",
              "3 2015-01-01 09:00:00          1  162.462833  ...  41.122144       645.0     76.0\n",
              "4 2015-01-01 10:00:00          1  157.610021  ...  25.990511       646.0     75.0\n",
              "\n",
              "[5 rows x 8 columns]"
            ]
          },
          "metadata": {
            "tags": []
          },
          "execution_count": 46
        }
      ]
    },
    {
      "cell_type": "code",
      "metadata": {
        "colab_type": "code",
        "id": "W7VuNIwfHRHx",
        "colab": {}
      },
      "source": [
        "TRAIN_SPLIT = 30000\n",
        "dataset = features.values"
      ],
      "execution_count": null,
      "outputs": []
    },
    {
      "cell_type": "code",
      "metadata": {
        "colab_type": "code",
        "id": "d-rVX4d3OF86",
        "colab": {}
      },
      "source": [
        "def multivariate_data(dataset, target, start_index, end_index, history_size,\n",
        "                      target_size, step, single_step=False):\n",
        "  data = []\n",
        "  labels = []\n",
        "\n",
        "  start_index = start_index + history_size\n",
        "  if end_index is None:\n",
        "    end_index = len(dataset) - target_size\n",
        "\n",
        "  for i in range(start_index, end_index):\n",
        "    indices = range(i-history_size, i, step)\n",
        "    data.append(dataset[indices])\n",
        "\n",
        "    if single_step:\n",
        "      labels.append(target[i+target_size])\n",
        "    else:\n",
        "      labels.append(target[i:i+target_size])\n",
        "\n",
        "  return np.array(data), np.array(labels)"
      ],
      "execution_count": null,
      "outputs": []
    },
    {
      "cell_type": "code",
      "metadata": {
        "colab_type": "code",
        "id": "-ZAdeAnP5c72",
        "colab": {}
      },
      "source": [
        "def plot_train_history(history, title):\n",
        "  loss = history.history['loss']\n",
        "  val_loss = history.history['val_loss']\n",
        "\n",
        "  epochs = range(len(loss))\n",
        "\n",
        "  plt.figure()\n",
        "\n",
        "  plt.plot(epochs, loss, 'b', label='Training loss')\n",
        "  plt.plot(epochs, val_loss, 'r', label='Validation loss')\n",
        "  plt.title(title)\n",
        "  plt.legend()\n",
        "\n",
        "  plt.show()"
      ],
      "execution_count": null,
      "outputs": []
    },
    {
      "cell_type": "code",
      "metadata": {
        "id": "8Z4GzBFBUNAc",
        "colab_type": "code",
        "colab": {}
      },
      "source": [
        "def create_time_steps(length):\n",
        "  return list(range(-length, 0))"
      ],
      "execution_count": null,
      "outputs": []
    },
    {
      "cell_type": "code",
      "metadata": {
        "id": "CqujLijCUAp2",
        "colab_type": "code",
        "colab": {}
      },
      "source": [
        "def show_plot(plot_data, delta, title):\n",
        "  labels = ['History', 'True Future', 'Model Prediction']\n",
        "  marker = ['.-', 'rx', 'go']\n",
        "  time_steps = create_time_steps(plot_data[0].shape[0])\n",
        "  if delta:\n",
        "    future = delta\n",
        "  else:\n",
        "    future = 0\n",
        "\n",
        "  plt.title(title)\n",
        "  for i, x in enumerate(plot_data):\n",
        "    if i:\n",
        "      plt.plot(future, plot_data[i], marker[i], markersize=10,\n",
        "               label=labels[i])\n",
        "    else:\n",
        "      plt.plot(time_steps, plot_data[i].flatten(), marker[i], label=labels[i])\n",
        "  plt.legend()\n",
        "  plt.xlim([time_steps[0], (future+5)*2])\n",
        "  plt.xlabel('Time-Step')\n",
        "  return plt"
      ],
      "execution_count": null,
      "outputs": []
    },
    {
      "cell_type": "code",
      "metadata": {
        "colab_type": "code",
        "id": "HlhVGzPhmMYI",
        "colab": {
          "base_uri": "https://localhost:8080/",
          "height": 34
        },
        "outputId": "998200a7-bc6e-4a0a-f4c9-8db60e9670cb"
      },
      "source": [
        "past_history = 744\n",
        "future_target = -1\n",
        "STEP = 1\n",
        "print(len(dataset))"
      ],
      "execution_count": null,
      "outputs": [
        {
          "output_type": "stream",
          "text": [
            "35044\n"
          ],
          "name": "stdout"
        }
      ]
    },
    {
      "cell_type": "code",
      "metadata": {
        "colab_type": "code",
        "id": "kZCk9fqyJZqX",
        "colab": {}
      },
      "source": [
        "x_train_single, y_train_single = multivariate_data(dataset[:, 1:7], dataset[:, 7], 0,\n",
        "                                                 TRAIN_SPLIT-future_target+1, past_history,\n",
        "                                                 future_target, STEP, True)\n",
        "x_val_single, y_val_single = multivariate_data(dataset[:, 1:7], dataset[:, 7],\n",
        "                                             TRAIN_SPLIT, None, past_history,\n",
        "                                             future_target, STEP, True)\n",
        "for i in y_train_single:\n",
        "  if i > 4000:\n",
        "    print('we got fucked')"
      ],
      "execution_count": null,
      "outputs": []
    },
    {
      "cell_type": "code",
      "metadata": {
        "id": "bnSrOX_3ScPO",
        "colab_type": "code",
        "colab": {
          "base_uri": "https://localhost:8080/",
          "height": 52
        },
        "outputId": "77acc074-f54d-4116-d283-a07f686607db"
      },
      "source": [
        "print(x_train_single[0,0])\n",
        "print(y_train_single[0])"
      ],
      "execution_count": null,
      "outputs": [
        {
          "output_type": "stream",
          "text": [
            "[1 176.217853 418.5040782 113.0779355 45.08768576 642.0]\n",
            "201.0\n"
          ],
          "name": "stdout"
        }
      ]
    },
    {
      "cell_type": "code",
      "metadata": {
        "colab_type": "code",
        "id": "cjR4PJArMOpA",
        "colab": {}
      },
      "source": [
        "BUFFER_SIZE = 1000\n",
        "BATCH_SIZE = 64\n",
        "train_data_single = tf.data.Dataset.from_tensor_slices((x_train_single.astype(np.float32), y_train_single.astype(np.float32)))\n",
        "train_data_single = train_data_single.cache().shuffle(BUFFER_SIZE).batch(BATCH_SIZE)\n",
        "\n",
        "val_data_single = tf.data.Dataset.from_tensor_slices((x_val_single.astype(np.float32), y_val_single.astype(np.float32)))\n",
        "val_data_single = val_data_single.batch(BATCH_SIZE)"
      ],
      "execution_count": null,
      "outputs": []
    },
    {
      "cell_type": "code",
      "metadata": {
        "id": "kymA8sMDUuxq",
        "colab_type": "code",
        "colab": {}
      },
      "source": [
        "tf.keras.backend.clear_session()\n",
        "single_step_model = tf.keras.models.Sequential()\n",
        "single_step_model.add(tf.keras.layers.Flatten())\n",
        "single_step_model.add(tf.keras.layers.Dense(600,activation='relu'))\n",
        "single_step_model.add(tf.keras.layers.Dense(400,activation='relu'))\n",
        "single_step_model.add(tf.keras.layers.Dense(200,activation='relu'))\n",
        "single_step_model.add(tf.keras.layers.Dense(100,activation='relu'))\n",
        "single_step_model.add(tf.keras.layers.Dense(64,activation='relu'))\n",
        "single_step_model.add(tf.keras.layers.Dense(16,activation='relu'))\n",
        "single_step_model.add(tf.keras.layers.Dense(4,activation='relu'))\n",
        "single_step_model.add(tf.keras.layers.Dense(1))\n",
        "\n",
        "single_step_model.compile(optimizer=tf.keras.optimizers.Nadam(learning_rate=1e-8), loss=tf.keras.losses.MeanSquaredError())"
      ],
      "execution_count": null,
      "outputs": []
    },
    {
      "cell_type": "code",
      "metadata": {
        "colab_type": "code",
        "id": "U0jnt2l2mwkl",
        "colab": {}
      },
      "source": [
        "EVALUATION_INTERVAL = 300\n",
        "EPOCHS = 800"
      ],
      "execution_count": null,
      "outputs": []
    },
    {
      "cell_type": "code",
      "metadata": {
        "colab_type": "code",
        "id": "7uwOhXo3Oems",
        "colab": {
          "base_uri": "https://localhost:8080/",
          "height": 1000
        },
        "outputId": "218a4e4e-479f-4eb7-fee4-5eba822e5d8a"
      },
      "source": [
        "single_step_history = single_step_model.fit(train_data_single, epochs=EPOCHS,\n",
        "                                          validation_data=val_data_single)"
      ],
      "execution_count": null,
      "outputs": [
        {
          "output_type": "stream",
          "text": [
            "Epoch 1/800\n",
            "458/458 [==============================] - 3s 8ms/step - loss: 452951.7812 - val_loss: 312731.2812\n",
            "Epoch 2/800\n",
            "458/458 [==============================] - 3s 7ms/step - loss: 442031.5625 - val_loss: 302786.1875\n",
            "Epoch 3/800\n",
            "458/458 [==============================] - 3s 7ms/step - loss: 432226.3438 - val_loss: 293935.8125\n",
            "Epoch 4/800\n",
            "458/458 [==============================] - 3s 7ms/step - loss: 423652.8125 - val_loss: 286308.0000\n",
            "Epoch 5/800\n",
            "458/458 [==============================] - 3s 7ms/step - loss: 416343.8125 - val_loss: 279945.7812\n",
            "Epoch 6/800\n",
            "458/458 [==============================] - 3s 7ms/step - loss: 410285.0625 - val_loss: 274828.2500\n",
            "Epoch 7/800\n",
            "458/458 [==============================] - 3s 7ms/step - loss: 405313.6875 - val_loss: 270756.5312\n",
            "Epoch 8/800\n",
            "458/458 [==============================] - 3s 7ms/step - loss: 401190.0625 - val_loss: 267453.9062\n",
            "Epoch 9/800\n",
            "458/458 [==============================] - 3s 7ms/step - loss: 397734.7188 - val_loss: 264744.4688\n",
            "Epoch 10/800\n",
            "458/458 [==============================] - 3s 7ms/step - loss: 394849.1250 - val_loss: 262543.8125\n",
            "Epoch 11/800\n",
            "458/458 [==============================] - 3s 7ms/step - loss: 392455.8438 - val_loss: 260761.3281\n",
            "Epoch 12/800\n",
            "458/458 [==============================] - 3s 7ms/step - loss: 390475.6562 - val_loss: 259316.6875\n",
            "Epoch 13/800\n",
            "458/458 [==============================] - 3s 7ms/step - loss: 388836.6562 - val_loss: 258145.0469\n",
            "Epoch 14/800\n",
            "458/458 [==============================] - 3s 7ms/step - loss: 387483.7500 - val_loss: 257203.8125\n",
            "Epoch 15/800\n",
            "458/458 [==============================] - 3s 7ms/step - loss: 386358.6250 - val_loss: 256450.5156\n",
            "Epoch 16/800\n",
            "458/458 [==============================] - 3s 7ms/step - loss: 385417.4375 - val_loss: 255850.1562\n",
            "Epoch 17/800\n",
            "458/458 [==============================] - 3s 7ms/step - loss: 384613.8438 - val_loss: 255356.8125\n",
            "Epoch 18/800\n",
            "458/458 [==============================] - 3s 7ms/step - loss: 383926.3125 - val_loss: 254957.1875\n",
            "Epoch 19/800\n",
            "458/458 [==============================] - 3s 7ms/step - loss: 383325.7500 - val_loss: 254610.3281\n",
            "Epoch 20/800\n",
            "458/458 [==============================] - 3s 7ms/step - loss: 382786.6250 - val_loss: 254303.5312\n",
            "Epoch 21/800\n",
            "458/458 [==============================] - 3s 7ms/step - loss: 382297.2188 - val_loss: 254031.3125\n",
            "Epoch 22/800\n",
            "458/458 [==============================] - 3s 7ms/step - loss: 381847.0312 - val_loss: 253787.1562\n",
            "Epoch 23/800\n",
            "458/458 [==============================] - 3s 7ms/step - loss: 381421.5938 - val_loss: 253550.5625\n",
            "Epoch 24/800\n",
            "458/458 [==============================] - 3s 7ms/step - loss: 381002.7500 - val_loss: 253293.6719\n",
            "Epoch 25/800\n",
            "458/458 [==============================] - 3s 7ms/step - loss: 380552.5000 - val_loss: 252979.2188\n",
            "Epoch 26/800\n",
            "458/458 [==============================] - 3s 7ms/step - loss: 380060.2812 - val_loss: 252600.0625\n",
            "Epoch 27/800\n",
            "458/458 [==============================] - 3s 7ms/step - loss: 379547.6250 - val_loss: 252194.9688\n",
            "Epoch 28/800\n",
            "458/458 [==============================] - 3s 7ms/step - loss: 379039.0625 - val_loss: 251766.8281\n",
            "Epoch 29/800\n",
            "458/458 [==============================] - 3s 7ms/step - loss: 378512.6250 - val_loss: 251294.2344\n",
            "Epoch 30/800\n",
            "458/458 [==============================] - 3s 7ms/step - loss: 377935.3750 - val_loss: 250745.2500\n",
            "Epoch 31/800\n",
            "458/458 [==============================] - 3s 7ms/step - loss: 377278.7188 - val_loss: 250106.7031\n",
            "Epoch 32/800\n",
            "458/458 [==============================] - 3s 7ms/step - loss: 376530.0625 - val_loss: 249370.4844\n",
            "Epoch 33/800\n",
            "458/458 [==============================] - 3s 7ms/step - loss: 375686.5938 - val_loss: 248573.9219\n",
            "Epoch 34/800\n",
            "458/458 [==============================] - 3s 7ms/step - loss: 374810.2812 - val_loss: 247787.3438\n",
            "Epoch 35/800\n",
            "458/458 [==============================] - 3s 7ms/step - loss: 373956.3438 - val_loss: 247045.8125\n",
            "Epoch 36/800\n",
            "458/458 [==============================] - 3s 7ms/step - loss: 373160.7188 - val_loss: 246370.7500\n",
            "Epoch 37/800\n",
            "458/458 [==============================] - 3s 7ms/step - loss: 372439.4688 - val_loss: 245774.5312\n",
            "Epoch 38/800\n",
            "458/458 [==============================] - 3s 7ms/step - loss: 371798.2812 - val_loss: 245263.0938\n",
            "Epoch 39/800\n",
            "458/458 [==============================] - 3s 7ms/step - loss: 371229.0625 - val_loss: 244814.7188\n",
            "Epoch 40/800\n",
            "458/458 [==============================] - 3s 7ms/step - loss: 370714.0000 - val_loss: 244417.6250\n",
            "Epoch 41/800\n",
            "371/458 [=======================>......] - ETA: 0s - loss: 394427.7812"
          ],
          "name": "stdout"
        }
      ]
    },
    {
      "cell_type": "code",
      "metadata": {
        "colab_type": "code",
        "id": "UKfQoBjQ5l7U",
        "colab": {}
      },
      "source": [
        "plot_train_history(single_step_history, 'single-Step Training and validation loss')"
      ],
      "execution_count": null,
      "outputs": []
    },
    {
      "cell_type": "code",
      "metadata": {
        "colab_type": "code",
        "id": "dt22wq6fyIBU",
        "colab": {}
      },
      "source": [
        "y1 = None\n",
        "y0=None\n",
        "y=None\n",
        "for x, y in val_data_single.take(100):\n",
        "  if y1 != None:\n",
        "    y0 = single_step_model.predict(x)\n",
        "    print(y0)\n",
        "    print(y)\n",
        "    y_1 = y.numpy()\n",
        "    #plt.rcParams[\"figure.figsize\"] = (10, 10)\n",
        "\n",
        "# create the plot space upon which to plot the data\n",
        "    fig, ax = plt.subplots()\n",
        "\n",
        "# add the x-axis and the y-axis to the plot\n",
        "    ax.plot(np.arange(len(y_1)), y0, color=\"red\")\n",
        "    ax.plot(np.arange(len(y_1)), y, color=\"blue\")\n",
        "    ax.legend(['predicted','actual'])\n",
        "# set plot title\n",
        "    ax.set(title=\"prediction chart\")\n",
        "\n",
        "# add labels to the axes\n",
        "    ax.set(xlabel=\"integer\", ylabel=\"Hours\");\n",
        "    #z = [y1.numpy(), y[BUFFER_SIZE-1].numpy(), y0]\n",
        "    #show_plot(z, 0, 'Prediction')\n",
        "  y1 = y"
      ],
      "execution_count": null,
      "outputs": []
    }
  ]
}