{
  "nbformat": 4,
  "nbformat_minor": 0,
  "metadata": {
    "accelerator": "GPU",
    "colab": {
      "name": "Copy of time_series.ipynb",
      "provenance": [],
      "private_outputs": true,
      "collapsed_sections": [],
      "toc_visible": true
    },
    "kernelspec": {
      "display_name": "Python 3",
      "name": "python3"
    }
  },
  "cells": [
    {
      "cell_type": "code",
      "metadata": {
        "id": "YUDNsJII51jf",
        "colab_type": "code",
        "colab": {}
      },
      "source": [
        "from pydrive.auth import GoogleAuth\n",
        "from pydrive.drive import GoogleDrive\n",
        "from google.colab import auth\n",
        "from oauth2client.client import GoogleCredentials"
      ],
      "execution_count": 0,
      "outputs": []
    },
    {
      "cell_type": "code",
      "metadata": {
        "colab_type": "code",
        "id": "7rZnJaGTWQw0",
        "colab": {}
      },
      "source": [
        "import tensorflow as tf\n",
        "\n",
        "import os\n",
        "import matplotlib as mpl\n",
        "import pandas as pd\n",
        "import numpy as np\n",
        "import matplotlib.pyplot as plt\n",
        "\n",
        "from statsmodels.tsa.seasonal import seasonal_decompose"
      ],
      "execution_count": 0,
      "outputs": []
    },
    {
      "cell_type": "code",
      "metadata": {
        "id": "yoQkDse152wW",
        "colab_type": "code",
        "colab": {}
      },
      "source": [
        "auth.authenticate_user()\n",
        "gauth = GoogleAuth()\n",
        "gauth.credentials = GoogleCredentials.get_application_default()\n",
        "drive = GoogleDrive(gauth)"
      ],
      "execution_count": 0,
      "outputs": []
    },
    {
      "cell_type": "code",
      "metadata": {
        "id": "0M5zvinR6VDZ",
        "colab_type": "code",
        "colab": {}
      },
      "source": [
        "id = '1px3LZ7Twk5YuPio48YpG4Iy3Li9ag0bC'"
      ],
      "execution_count": 0,
      "outputs": []
    },
    {
      "cell_type": "code",
      "metadata": {
        "id": "sofxGVm66fMe",
        "colab_type": "code",
        "colab": {}
      },
      "source": [
        "downloaded = drive.CreateFile({'id':id}) \n",
        "downloaded.GetContentFile('telemetry.csv')  \n",
        "df = pd.read_csv('telemetry.csv', parse_dates=['datetime'], index_col='datetime')\n",
        "df.head()"
      ],
      "execution_count": 0,
      "outputs": []
    },
    {
      "cell_type": "code",
      "metadata": {
        "id": "aoc5mD6bjV7E",
        "colab_type": "code",
        "colab": {}
      },
      "source": [
        "result_pressure=seasonal_decompose(df.pressure)\n",
        "result_volt=seasonal_decompose(df.volt)\n",
        "result_vibration=seasonal_decompose(df.vibration)\n",
        "result_rotate=seasonal_decompose(df.rotate)\n",
        "datetime=np.array(df.index)\n",
        "pressure=np.array(result_pressure.trend)\n",
        "volt=np.array(result_volt.trend)\n",
        "vibration=np.array(result_vibration.trend)\n",
        "rotate=np.array(result_rotate.trend)\n",
        "yval=np.array(df.yval)\n",
        "df=pd.DataFrame((datetime,pressure,volt,vibration,rotate,yval),index=('datetime','pressure','volt','vibration','rotate','yval')).T.dropna()"
      ],
      "execution_count": 0,
      "outputs": []
    },
    {
      "cell_type": "code",
      "metadata": {
        "id": "PE0ZOv-lpiyu",
        "colab_type": "code",
        "colab": {}
      },
      "source": [
        "df.head(8737)"
      ],
      "execution_count": 0,
      "outputs": []
    },
    {
      "cell_type": "code",
      "metadata": {
        "id": "ytbOsppU7YEB",
        "colab_type": "code",
        "colab": {}
      },
      "source": [
        "hoursto = np.zeros(8737)\n",
        "hourssince = np.zeros(8737)\n",
        "l = len(df['yval'])\n",
        "temp1 = None\n",
        "temp2 = None\n",
        "for i in range(8748, 11, -1):\n",
        "  if df['yval'][i] == 1:\n",
        "    temp1 = 1\n",
        "    hoursto[(i-12)] = 0\n",
        "    continue\n",
        "  if temp1 == 1:\n",
        "    hoursto[(i-12)] = hoursto[(i-12)+1] + 1\n",
        "  else:\n",
        "    hoursto[(i-12)] = None\n",
        "  if df['yval'][8748-(i-12)] == 1:\n",
        "    temp2 = 1\n",
        "    hourssince[8736-(i-12)] = 0\n",
        "    continue\n",
        "  if temp2 == 1:\n",
        "    hourssince[8736-(i-12)] = hourssince[8736-(i-12)-1] + 1\n",
        "  else:\n",
        "    hourssince[8736-(i-12)] = None\n",
        "df['hoursto'] = hoursto\n",
        "df['hourssince'] = hourssince"
      ],
      "execution_count": 0,
      "outputs": []
    },
    {
      "cell_type": "code",
      "metadata": {
        "colab_type": "code",
        "id": "ojHE-iCCWIhz",
        "colab": {}
      },
      "source": [
        "df.head(8761)"
      ],
      "execution_count": 0,
      "outputs": []
    },
    {
      "cell_type": "code",
      "metadata": {
        "colab_type": "code",
        "id": "IfQUSiJfUpXJ",
        "colab": {}
      },
      "source": [
        "features_considered = ['volt', 'rotate', 'pressure', 'vibration', 'hourssince', 'hoursto']\n",
        "features = df[features_considered]\n",
        "index = ['datetime', 'machineID']\n",
        "features.index = df['datetime']\n",
        "features.head()"
      ],
      "execution_count": 0,
      "outputs": []
    },
    {
      "cell_type": "code",
      "metadata": {
        "colab_type": "code",
        "id": "QdgC8zvGr21X",
        "colab": {}
      },
      "source": [
        "# features.plot(subplots=True)"
      ],
      "execution_count": 0,
      "outputs": []
    },
    {
      "cell_type": "code",
      "metadata": {
        "colab_type": "code",
        "id": "W7VuNIwfHRHx",
        "colab": {}
      },
      "source": [
        "TRAIN_SPLIT = 7157\n",
        "dataset = features.values"
      ],
      "execution_count": 0,
      "outputs": []
    },
    {
      "cell_type": "code",
      "metadata": {
        "colab_type": "code",
        "id": "d-rVX4d3OF86",
        "colab": {}
      },
      "source": [
        "def multivariate_data(dataset, target, start_index, end_index, history_size,\n",
        "                      target_size, step, single_step=False):\n",
        "  data = []\n",
        "  labels = []\n",
        "\n",
        "  start_index = start_index + history_size\n",
        "  if end_index is None:\n",
        "    end_index = len(dataset) - target_size\n",
        "\n",
        "  for i in range(start_index, end_index):\n",
        "    indices = range(i-history_size, i, step)\n",
        "    data.append(dataset[indices])\n",
        "\n",
        "    if single_step:\n",
        "      labels.append(target[i+target_size])\n",
        "    else:\n",
        "      labels.append(target[i:i+target_size])\n",
        "\n",
        "  return np.array(data), np.array(labels)"
      ],
      "execution_count": 0,
      "outputs": []
    },
    {
      "cell_type": "code",
      "metadata": {
        "colab_type": "code",
        "id": "-ZAdeAnP5c72",
        "colab": {}
      },
      "source": [
        "def plot_train_history(history, title):\n",
        "  loss = history.history['loss']\n",
        "  val_loss = history.history['val_loss']\n",
        "\n",
        "  epochs = range(len(loss))\n",
        "\n",
        "  plt.figure()\n",
        "\n",
        "  plt.plot(epochs, loss, 'b', label='Training loss')\n",
        "  plt.plot(epochs, val_loss, 'r', label='Validation loss')\n",
        "  plt.title(title)\n",
        "  plt.legend()\n",
        "\n",
        "  plt.show()"
      ],
      "execution_count": 0,
      "outputs": []
    },
    {
      "cell_type": "code",
      "metadata": {
        "id": "8Z4GzBFBUNAc",
        "colab_type": "code",
        "colab": {}
      },
      "source": [
        "def create_time_steps(length):\n",
        "  return list(range(-length, 0))"
      ],
      "execution_count": 0,
      "outputs": []
    },
    {
      "cell_type": "code",
      "metadata": {
        "id": "CqujLijCUAp2",
        "colab_type": "code",
        "colab": {}
      },
      "source": [
        "def show_plot(plot_data, delta, title):\n",
        "  labels = ['History', 'True Future', 'Model Prediction']\n",
        "  marker = ['.-', 'rx', 'go']\n",
        "  time_steps = create_time_steps(plot_data[0].shape[0])\n",
        "  if delta:\n",
        "    future = delta\n",
        "  else:\n",
        "    future = 0\n",
        "\n",
        "  plt.title(title)\n",
        "  for i, x in enumerate(plot_data):\n",
        "    if i:\n",
        "      plt.plot(future, plot_data[i], marker[i], markersize=10,\n",
        "               label=labels[i])\n",
        "    else:\n",
        "      plt.plot(time_steps, plot_data[i].flatten(), marker[i], label=labels[i])\n",
        "  plt.legend()\n",
        "  plt.xlim([time_steps[0], (future+5)*2])\n",
        "  plt.xlabel('Time-Step')\n",
        "  return plt"
      ],
      "execution_count": 0,
      "outputs": []
    },
    {
      "cell_type": "code",
      "metadata": {
        "colab_type": "code",
        "id": "HlhVGzPhmMYI",
        "colab": {}
      },
      "source": [
        "past_history = 744\n",
        "future_target = 0\n",
        "STEP = 1\n",
        "print(len(dataset))"
      ],
      "execution_count": 0,
      "outputs": []
    },
    {
      "cell_type": "code",
      "metadata": {
        "colab_type": "code",
        "id": "kZCk9fqyJZqX",
        "colab": {}
      },
      "source": [
        "x_train_single, y_train_single = multivariate_data(dataset[:, :5], dataset[:, 5], 0,\n",
        "                                                 TRAIN_SPLIT-future_target+1, past_history,\n",
        "                                                 future_target, STEP, True)\n",
        "x_val_single, y_val_single = multivariate_data(dataset[:, :5], dataset[:, 5],\n",
        "                                             TRAIN_SPLIT, None, past_history,\n",
        "                                             future_target, STEP, True)\n",
        "y_train_single.shape"
      ],
      "execution_count": 0,
      "outputs": []
    },
    {
      "cell_type": "code",
      "metadata": {
        "colab_type": "code",
        "id": "cjR4PJArMOpA",
        "colab": {}
      },
      "source": [
        "BUFFER_SIZE = 1000\n",
        "BATCH_SIZE = 2\n",
        "train_data_single = tf.data.Dataset.from_tensor_slices((x_train_single, y_train_single))\n",
        "train_data_single = train_data_single.cache().shuffle(BUFFER_SIZE).batch(BATCH_SIZE)\n",
        "\n",
        "val_data_single = tf.data.Dataset.from_tensor_slices((x_val_single, y_val_single))\n",
        "val_data_single = val_data_single.batch(BATCH_SIZE)"
      ],
      "execution_count": 0,
      "outputs": []
    },
    {
      "cell_type": "code",
      "metadata": {
        "colab_type": "code",
        "id": "byAl0NKSNBP6",
        "colab": {}
      },
      "source": [
        "single_step_model = tf.keras.models.Sequential()\n",
        "single_step_model.add(tf.keras.layers.LSTM(256, return_sequences=True, input_shape=x_train_single.shape[-2:]))\n",
        "single_step_model.add(tf.keras.layers.LSTM(256))\n",
        "single_step_model.add(tf.keras.layers.Flatten())\n",
        "# single_step_model.add(tf.keras.layers.Conv1D(filters=200, kernel_size=5, strides=1, padding=\"causal\", activation=\"relu\"))\n",
        "single_step_model.add(tf.keras.layers.Dense(180))\n",
        "single_step_model.add(tf.keras.layers.Dense(1, activation='relu'))\n",
        "\n",
        "single_step_model.compile(optimizer='sgd', loss='mae')\n",
        "print(single_step_model.summary())"
      ],
      "execution_count": 0,
      "outputs": []
    },
    {
      "cell_type": "code",
      "metadata": {
        "colab_type": "code",
        "id": "13_ZWvB9SRlZ",
        "colab": {}
      },
      "source": [
        "for x, y in val_data_single.take(1):\n",
        "  print (single_step_model.predict(x).shape)"
      ],
      "execution_count": 0,
      "outputs": []
    },
    {
      "cell_type": "code",
      "metadata": {
        "colab_type": "code",
        "id": "U0jnt2l2mwkl",
        "colab": {}
      },
      "source": [
        "EVALUATION_INTERVAL = 300\n",
        "EPOCHS = 2"
      ],
      "execution_count": 0,
      "outputs": []
    },
    {
      "cell_type": "code",
      "metadata": {
        "colab_type": "code",
        "id": "7uwOhXo3Oems",
        "colab": {}
      },
      "source": [
        "single_step_history = single_step_model.fit(train_data_single, epochs=EPOCHS,\n",
        "                                            steps_per_epoch=EVALUATION_INTERVAL,\n",
        "                                          validation_data=val_data_single, validation_steps=100)"
      ],
      "execution_count": 0,
      "outputs": []
    },
    {
      "cell_type": "code",
      "metadata": {
        "colab_type": "code",
        "id": "UKfQoBjQ5l7U",
        "colab": {}
      },
      "source": [
        "plot_train_history(single_step_history, 'single-Step Training and validation loss')"
      ],
      "execution_count": 0,
      "outputs": []
    },
    {
      "cell_type": "code",
      "metadata": {
        "colab_type": "code",
        "id": "dt22wq6fyIBU",
        "colab": {}
      },
      "source": [
        "y1 = None\n",
        "for x, y in val_data_single.take(5):\n",
        "  if y1 != None:\n",
        "    y0 = single_step_model.predict(x)[0]\n",
        "    print(y0)\n",
        "    print(y)\n",
        "    print(x[:, :, 4])\n",
        "#     z = [y1.numpy(), y[BUFFER_SIZE-1].numpy(), y0]\n",
        "#     show_plot(z, 0, 'Prediction')\n",
        "  y1 = y"
      ],
      "execution_count": 0,
      "outputs": []
    }
  ]
}