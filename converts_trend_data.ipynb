{
  "nbformat": 4,
  "nbformat_minor": 0,
  "metadata": {
    "colab": {
      "name": "Untitled1.ipynb",
      "provenance": [],
      "mount_file_id": "1EIQQvoiVwa6d8asd9ZkTRv6BZrryEalU",
      "authorship_tag": "ABX9TyN22SglfiyA2yLNqU01qer+",
      "include_colab_link": true
    },
    "kernelspec": {
      "name": "python3",
      "display_name": "Python 3"
    }
  },
  "cells": [
    {
      "cell_type": "markdown",
      "metadata": {
        "id": "view-in-github",
        "colab_type": "text"
      },
      "source": [
        "<a href=\"https://colab.research.google.com/github/vikramsharitas/PS-1-Project/blob/master/converts_trend_data.ipynb\" target=\"_parent\"><img src=\"https://colab.research.google.com/assets/colab-badge.svg\" alt=\"Open In Colab\"/></a>"
      ]
    },
    {
      "cell_type": "code",
      "metadata": {
        "id": "0q_B03OzF4-4",
        "colab_type": "code",
        "colab": {}
      },
      "source": [
        "import pandas as pd\n",
        "import numpy as np\n",
        "tdf=pd.read_csv('drive/My Drive/pycontent/telemetry_l.csv',parse_dates=['datetime'],index_col='datetime')"
      ],
      "execution_count": 0,
      "outputs": []
    },
    {
      "cell_type": "code",
      "metadata": {
        "id": "fi1BKOR1GQib",
        "colab_type": "code",
        "colab": {
          "base_uri": "https://localhost:8080/",
          "height": 134
        },
        "outputId": "3c7ba888-311e-4175-9436-6c3d08c9b188"
      },
      "source": [
        "tdf=tdf[tdf['machineID']==1]\n",
        "print(tdf[:5])"
      ],
      "execution_count": 2,
      "outputs": [
        {
          "output_type": "stream",
          "text": [
            "                     machineID        volt      rotate    pressure  vibration\n",
            "datetime                                                                     \n",
            "2015-01-01 06:00:00          1  176.217853  418.504078  113.077935  45.087686\n",
            "2015-01-01 07:00:00          1  162.879223  402.747490   95.460525  43.413973\n",
            "2015-01-01 08:00:00          1  170.989902  527.349825   75.237905  34.178847\n",
            "2015-01-01 09:00:00          1  162.462833  346.149335  109.248561  41.122144\n",
            "2015-01-01 10:00:00          1  157.610021  435.376873  111.886648  25.990511\n"
          ],
          "name": "stdout"
        }
      ]
    },
    {
      "cell_type": "code",
      "metadata": {
        "id": "-PIJqzI0IpiK",
        "colab_type": "code",
        "colab": {
          "base_uri": "https://localhost:8080/",
          "height": 235
        },
        "outputId": "4f6b6fd2-f0cc-42ef-9846-e24d18869388"
      },
      "source": [
        "print(tdf['pressure'])"
      ],
      "execution_count": 9,
      "outputs": [
        {
          "output_type": "stream",
          "text": [
            "datetime\n",
            "2015-01-01 06:00:00    113.077935\n",
            "2015-01-01 07:00:00     95.460525\n",
            "2015-01-01 08:00:00     75.237905\n",
            "2015-01-01 09:00:00    109.248561\n",
            "2015-01-01 10:00:00    111.886648\n",
            "                          ...    \n",
            "2016-01-01 02:00:00     85.197443\n",
            "2016-01-01 03:00:00     95.568265\n",
            "2016-01-01 04:00:00     95.483913\n",
            "2016-01-01 05:00:00    102.694358\n",
            "2016-01-01 06:00:00    100.893691\n",
            "Name: pressure, Length: 8761, dtype: float64\n"
          ],
          "name": "stdout"
        }
      ]
    },
    {
      "cell_type": "code",
      "metadata": {
        "id": "JlNgzgoFH7Fv",
        "colab_type": "code",
        "colab": {
          "base_uri": "https://localhost:8080/",
          "height": 118
        },
        "outputId": "dd911945-f907-45a4-8743-c6fb2bef8c42"
      },
      "source": [
        "from statsmodels.tsa.seasonal import seasonal_decompose\n",
        "result_pressure=seasonal_decompose(tdf.pressure)\n",
        "result_volt=seasonal_decompose(tdf.volt)\n",
        "result_vibration=seasonal_decompose(tdf.vibration)\n",
        "result_rotate=seasonal_decompose(tdf.rotate)\n",
        "datetime=list(tdf.index)\n",
        "pressure=list(result_pressure.trend)\n",
        "volt=list(result_volt.trend)\n",
        "vibration=list(result_vibration.trend)\n",
        "rotate=list(result_rotate.trend)\n",
        "adf=pd.DataFrame((datetime,pressure,volt,vibration,rotate),index=('datetime','pressure','volt','vibration','rotate')).T.dropna()\n",
        "#print(adf[:5])\n",
        "print(adf[0:5])"
      ],
      "execution_count": 33,
      "outputs": [
        {
          "output_type": "stream",
          "text": [
            "              datetime pressure     volt vibration   rotate\n",
            "12 2015-01-01 18:00:00  96.8234  170.174    40.061  445.772\n",
            "13 2015-01-01 19:00:00  97.0146  170.788   39.5781  445.988\n",
            "14 2015-01-01 20:00:00  97.4234  170.744   39.6031  444.759\n",
            "15 2015-01-01 21:00:00  97.6914   170.21   39.6425  445.458\n",
            "16 2015-01-01 22:00:00  97.2744  169.953    39.727  446.543\n"
          ],
          "name": "stdout"
        }
      ]
    }
  ]
}